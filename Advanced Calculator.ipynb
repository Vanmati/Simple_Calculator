{
 "cells": [
  {
   "cell_type": "code",
   "execution_count": 11,
   "id": "dc2cddab-c857-4953-9fba-6ba56449a696",
   "metadata": {},
   "outputs": [
    {
     "name": "stdout",
     "output_type": "stream",
     "text": [
      "\u001b[10m\n",
      "Calculator\u001b[0m\n",
      "\n",
      "1. Addition\n",
      "2. Subtraction\n",
      "3. Multiplication\n",
      "4. Divide\n",
      "5. Power (Exponentiation)\n",
      "6. Modulus (Remainder)\n",
      "7. Exit\n"
     ]
    },
    {
     "name": "stdin",
     "output_type": "stream",
     "text": [
      "\n",
      "Choose an Operation (1-7):  7\n"
     ]
    },
    {
     "name": "stdout",
     "output_type": "stream",
     "text": [
      "Exit the Calculator. Thankyou!\n"
     ]
    }
   ],
   "source": [
    "def Addition(a,b):\n",
    "    return a + b\n",
    "    \n",
    "def Subtraction(a,b):\n",
    "    return a - b\n",
    "    \n",
    "def Multiplication(a,b):\n",
    "    return a*b\n",
    "    \n",
    "def Divide(a,b):\n",
    "    if b == 0:\n",
    "        return \"Error! Division by zero\"\n",
    "    return a / b\n",
    "\n",
    "def Power(a,b):\n",
    "    return a ** b\n",
    "\n",
    "def Modulus(a,b):\n",
    "    return a % b\n",
    "\n",
    "BOLD = \"\\033[1m\"\n",
    "RESET = \"\\033[0m\"\n",
    "\n",
    "def print_bold(text):\n",
    "    return f\"{BOLD}{text}{RESET}\"\n",
    "\n",
    "def calculator():\n",
    "    while True:\n",
    "        print(print_bold(\"\\nCalculator\"))\n",
    "        \n",
    "        print(\"\\n1. Addition\")\n",
    "        print(\"2. Subtraction\")\n",
    "        print(\"3. Multiplication\")\n",
    "        print(\"4. Divide\")\n",
    "        print(\"5. Power (Exponentiation)\")\n",
    "        print(\"6. Modulus (Remainder)\")\n",
    "        print(\"7. Exit\")\n",
    "\n",
    "        choice = input(\"\\nChoose an Operation (1-7): \")\n",
    "\n",
    "        if choice == '7':\n",
    "            print(\"Exit the Calculator. Thankyou!\")\n",
    "            break\n",
    "\n",
    "        if choice in ['1','2','3','4','5','6']:\n",
    "            try:\n",
    "                num1 = float(input(\"Enter the first number: \"))\n",
    "                num2 = float(input(\"Enter the second number: \"))\n",
    "            except ValueError:\n",
    "                print(\"Invalid input! Please enter valid number!\")\n",
    "                continue\n",
    "\n",
    "            if choice == '1':\n",
    "                print(\"Result: \", Addition(num1, num2))\n",
    "            elif choice == '2':\n",
    "                print(\"Result: \", Subtraction(num1, num2))\n",
    "            elif choice == '3':\n",
    "                print(\"Result: \", Multiplication(num1, num2))\n",
    "            elif choice == '4':\n",
    "                print(\"Result: \", Divide(num1, num2))\n",
    "            elif choice == '5':\n",
    "                print(\"Result: \", Power(num1, num2))\n",
    "            elif choice == '6':\n",
    "                print(\"Result: \", Modulus(num1, num2))\n",
    "        else:\n",
    "            print(\"Invalid Output! Enter a valid number\")\n",
    "calculator()"
   ]
  }
 ],
 "metadata": {
  "kernelspec": {
   "display_name": "Python 3 (ipykernel)",
   "language": "python",
   "name": "python3"
  },
  "language_info": {
   "codemirror_mode": {
    "name": "ipython",
    "version": 3
   },
   "file_extension": ".py",
   "mimetype": "text/x-python",
   "name": "python",
   "nbconvert_exporter": "python",
   "pygments_lexer": "ipython3",
   "version": "3.12.4"
  }
 },
 "nbformat": 4,
 "nbformat_minor": 5
}
